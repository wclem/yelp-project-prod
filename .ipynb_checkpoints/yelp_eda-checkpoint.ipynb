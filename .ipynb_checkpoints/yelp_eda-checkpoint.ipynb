{
 "cells": [
  {
   "cell_type": "code",
   "execution_count": 1,
   "id": "0f5a7a23-0a5b-4ff9-a494-a20eb0ebf648",
   "metadata": {},
   "outputs": [],
   "source": [
    "import sqlite3\n",
    "import pandas as pd\n",
    "\n"
   ]
  },
  {
   "cell_type": "code",
   "execution_count": 2,
   "id": "1dd15354-8575-4ba5-bfac-389b4ece885d",
   "metadata": {},
   "outputs": [
    {
     "data": {
      "text/plain": [
       "[('data',)]"
      ]
     },
     "execution_count": 2,
     "metadata": {},
     "output_type": "execute_result"
    }
   ],
   "source": [
    "# Create the connection\n",
    "cnx = sqlite3.connect(r'rev_db3.db')\n",
    "\n",
    "\n",
    "curs = cnx.cursor()\n",
    "curs.execute(\"SELECT name FROM sqlite_master WHERE type = 'table'\").fetchall()"
   ]
  },
  {
   "cell_type": "code",
   "execution_count": 3,
   "id": "b4a95b4c-f09f-42d8-82cb-9ae9c861dda1",
   "metadata": {},
   "outputs": [
    {
     "data": {
      "text/html": [
       "<div>\n",
       "<style scoped>\n",
       "    .dataframe tbody tr th:only-of-type {\n",
       "        vertical-align: middle;\n",
       "    }\n",
       "\n",
       "    .dataframe tbody tr th {\n",
       "        vertical-align: top;\n",
       "    }\n",
       "\n",
       "    .dataframe thead th {\n",
       "        text-align: right;\n",
       "    }\n",
       "</style>\n",
       "<table border=\"1\" class=\"dataframe\">\n",
       "  <thead>\n",
       "    <tr style=\"text-align: right;\">\n",
       "      <th></th>\n",
       "      <th>review_id</th>\n",
       "      <th>user_id</th>\n",
       "      <th>business_id</th>\n",
       "      <th>stars</th>\n",
       "      <th>useful</th>\n",
       "      <th>funny</th>\n",
       "      <th>cool</th>\n",
       "      <th>text</th>\n",
       "      <th>date</th>\n",
       "    </tr>\n",
       "  </thead>\n",
       "  <tbody>\n",
       "    <tr>\n",
       "      <th>0</th>\n",
       "      <td>KU_O5udG6zpxOg-VcAEodg</td>\n",
       "      <td>mh_-eMZ6K5RLWhZyISBhwA</td>\n",
       "      <td>XQfwVwDr-v0ZS3_CbbE5Xw</td>\n",
       "      <td>3</td>\n",
       "      <td>0</td>\n",
       "      <td>0</td>\n",
       "      <td>0</td>\n",
       "      <td>If you decide to eat here, just be aware it is...</td>\n",
       "      <td>2018-07-07 22:09:11.000000</td>\n",
       "    </tr>\n",
       "    <tr>\n",
       "      <th>1</th>\n",
       "      <td>BiTunyQ73aT9WBnpR9DZGw</td>\n",
       "      <td>OyoGAe7OKpv6SyGZT5g77Q</td>\n",
       "      <td>7ATYjTIgM3jUlt4UM3IypQ</td>\n",
       "      <td>5</td>\n",
       "      <td>1</td>\n",
       "      <td>0</td>\n",
       "      <td>1</td>\n",
       "      <td>I've taken a lot of spin classes over the year...</td>\n",
       "      <td>2012-01-03 15:28:18.000000</td>\n",
       "    </tr>\n",
       "    <tr>\n",
       "      <th>2</th>\n",
       "      <td>AqPFMleE6RsU23_auESxiA</td>\n",
       "      <td>_7bHUi9Uuf5__HHc_Q8guQ</td>\n",
       "      <td>kxX2SOes4o-D3ZQBkiMRfA</td>\n",
       "      <td>5</td>\n",
       "      <td>1</td>\n",
       "      <td>0</td>\n",
       "      <td>1</td>\n",
       "      <td>Wow!  Yummy, different,  delicious.   Our favo...</td>\n",
       "      <td>2015-01-04 00:01:03.000000</td>\n",
       "    </tr>\n",
       "    <tr>\n",
       "      <th>3</th>\n",
       "      <td>JrIxlS1TzJ-iCu79ul40cQ</td>\n",
       "      <td>eUta8W_HdHMXPzLBBZhL1A</td>\n",
       "      <td>04UD14gamNjLY0IDYVhHJg</td>\n",
       "      <td>1</td>\n",
       "      <td>1</td>\n",
       "      <td>2</td>\n",
       "      <td>1</td>\n",
       "      <td>I am a long term frequent customer of this est...</td>\n",
       "      <td>2015-09-23 23:10:31.000000</td>\n",
       "    </tr>\n",
       "    <tr>\n",
       "      <th>4</th>\n",
       "      <td>_ZeMknuYdlQcUqng_Im3yg</td>\n",
       "      <td>yfFzsLmaWF2d4Sr0UNbBgg</td>\n",
       "      <td>LHSTtnW3YHCeUkRDGyJOyw</td>\n",
       "      <td>5</td>\n",
       "      <td>2</td>\n",
       "      <td>0</td>\n",
       "      <td>0</td>\n",
       "      <td>Amazingly amazing wings and homemade bleu chee...</td>\n",
       "      <td>2015-08-07 02:29:16.000000</td>\n",
       "    </tr>\n",
       "  </tbody>\n",
       "</table>\n",
       "</div>"
      ],
      "text/plain": [
       "                review_id                 user_id             business_id  \\\n",
       "0  KU_O5udG6zpxOg-VcAEodg  mh_-eMZ6K5RLWhZyISBhwA  XQfwVwDr-v0ZS3_CbbE5Xw   \n",
       "1  BiTunyQ73aT9WBnpR9DZGw  OyoGAe7OKpv6SyGZT5g77Q  7ATYjTIgM3jUlt4UM3IypQ   \n",
       "2  AqPFMleE6RsU23_auESxiA  _7bHUi9Uuf5__HHc_Q8guQ  kxX2SOes4o-D3ZQBkiMRfA   \n",
       "3  JrIxlS1TzJ-iCu79ul40cQ  eUta8W_HdHMXPzLBBZhL1A  04UD14gamNjLY0IDYVhHJg   \n",
       "4  _ZeMknuYdlQcUqng_Im3yg  yfFzsLmaWF2d4Sr0UNbBgg  LHSTtnW3YHCeUkRDGyJOyw   \n",
       "\n",
       "   stars  useful  funny  cool  \\\n",
       "0      3       0      0     0   \n",
       "1      5       1      0     1   \n",
       "2      5       1      0     1   \n",
       "3      1       1      2     1   \n",
       "4      5       2      0     0   \n",
       "\n",
       "                                                text  \\\n",
       "0  If you decide to eat here, just be aware it is...   \n",
       "1  I've taken a lot of spin classes over the year...   \n",
       "2  Wow!  Yummy, different,  delicious.   Our favo...   \n",
       "3  I am a long term frequent customer of this est...   \n",
       "4  Amazingly amazing wings and homemade bleu chee...   \n",
       "\n",
       "                         date  \n",
       "0  2018-07-07 22:09:11.000000  \n",
       "1  2012-01-03 15:28:18.000000  \n",
       "2  2015-01-04 00:01:03.000000  \n",
       "3  2015-09-23 23:10:31.000000  \n",
       "4  2015-08-07 02:29:16.000000  "
      ]
     },
     "execution_count": 3,
     "metadata": {},
     "output_type": "execute_result"
    }
   ],
   "source": [
    "# create the dataframe from a query\n",
    "df = pd.read_sql_query(\"SELECT * FROM data\", cnx)\n",
    "df.head()"
   ]
  },
  {
   "cell_type": "code",
   "execution_count": 4,
   "id": "1b5d9ece-e801-479d-b9cc-ed1b85947265",
   "metadata": {},
   "outputs": [
    {
     "data": {
      "text/plain": [
       "[(1598960,)]"
      ]
     },
     "execution_count": 4,
     "metadata": {},
     "output_type": "execute_result"
    }
   ],
   "source": [
    "curs.execute(\"SELECT COUNT(*) FROM data\").fetchall()"
   ]
  },
  {
   "cell_type": "code",
   "execution_count": 5,
   "id": "774a2ea4-3f9b-41c8-903d-b7a350c1b390",
   "metadata": {},
   "outputs": [
    {
     "name": "stdout",
     "output_type": "stream",
     "text": [
      "useful\n",
      "0      831436\n",
      "1      359314\n",
      "2      171852\n",
      "3       89036\n",
      "4       48655\n",
      "        ...  \n",
      "169         1\n",
      "164         1\n",
      "105         1\n",
      "186         1\n",
      "124         1\n",
      "Name: count, Length: 156, dtype: int64\n"
     ]
    }
   ],
   "source": [
    "count_useful = df['useful'].value_counts()\n",
    "print(count_useful)"
   ]
  },
  {
   "cell_type": "code",
   "execution_count": 6,
   "id": "a0ae9f1d",
   "metadata": {},
   "outputs": [
    {
     "name": "stdout",
     "output_type": "stream",
     "text": [
      "useful\n",
      "0      51.998549\n",
      "1      22.471732\n",
      "2      10.747736\n",
      "3       5.568369\n",
      "4       3.042915\n",
      "         ...    \n",
      "169     0.000063\n",
      "164     0.000063\n",
      "105     0.000063\n",
      "186     0.000063\n",
      "124     0.000063\n",
      "Name: proportion, Length: 156, dtype: float64\n"
     ]
    }
   ],
   "source": [
    "count_useful_pct = df['useful'].value_counts(normalize=True) * 100\n",
    "print(count_useful_pct)"
   ]
  },
  {
   "cell_type": "code",
   "execution_count": 7,
   "id": "1d8ced6a",
   "metadata": {},
   "outputs": [
    {
     "name": "stdout",
     "output_type": "stream",
     "text": [
      "user_id\n",
      "---r61b7EpVPkb4UVme5tA    5\n",
      "--034gGozmK4y5txuPsdAA    1\n",
      "--0kuuLmuYBe3Rmu0Iycww    2\n",
      "--13zE3NaRvLSrmfTVnFJA    1\n",
      "--1oopX4BmrQEB_cW2dFVA    1\n",
      "                         ..\n",
      "zzwTBixpqjeAD_IkMlby0g    1\n",
      "zzwYLnmIvj8C7wJmRjtkRA    2\n",
      "zzx7J3zheFF3zf5YYfDAMg    1\n",
      "zzxCh58BAynQseL1rUlJqg    1\n",
      "zzzMBVS73g3ZJ7qL8JyhiA    1\n",
      "Name: review_id, Length: 430688, dtype: int64\n",
      "min        1.000000\n",
      "mean       3.712572\n",
      "max     2822.000000\n",
      "Name: review_id, dtype: float64\n"
     ]
    }
   ],
   "source": [
    "review_count = df.groupby('user_id')['review_id'].count()\n",
    "summary_stats = review_count.agg(['min', 'mean', 'max'])\n",
    "\n",
    "print(review_count)\n",
    "print(summary_stats)"
   ]
  },
  {
   "cell_type": "code",
   "execution_count": 8,
   "id": "ef3b9273",
   "metadata": {},
   "outputs": [
    {
     "name": "stdout",
     "output_type": "stream",
     "text": [
      "business_id\n",
      "--30_8IhuyMHbSOcNWd6DQ     9\n",
      "--OS_I7dnABrXvRCCuWOGQ     5\n",
      "--ZVrH2X2QXBFdCilbirsw    36\n",
      "--ZWv8kGlM2YL58uKhGJDg    12\n",
      "--epgcb7xHGuJ-4PUeSLAw    38\n",
      "                          ..\n",
      "zzbpcMZXHoZxUr9JZdH6wg    23\n",
      "zzjCxn89a7RQo8keIOO_Ag     5\n",
      "zzjFdJwXuxBOGe9JeY_EMw    48\n",
      "zztOG2cKm87I6Iw_tleZsQ     6\n",
      "zzyx5x0Z7xXWWvWnZFuxlQ     8\n",
      "Name: review_id, Length: 34039, dtype: int64\n",
      "min        5.000000\n",
      "mean      46.974353\n",
      "max     5778.000000\n",
      "Name: review_id, dtype: float64\n"
     ]
    }
   ],
   "source": [
    "review_count = df.groupby('business_id')['review_id'].count()\n",
    "summary_stats = review_count.agg(['min', 'mean', 'max'])\n",
    "\n",
    "print(review_count)\n",
    "print(summary_stats)"
   ]
  },
  {
   "cell_type": "code",
   "execution_count": 9,
   "id": "20b788f8",
   "metadata": {},
   "outputs": [
    {
     "name": "stdout",
     "output_type": "stream",
     "text": [
      "<class 'pandas.core.frame.DataFrame'>\n",
      "RangeIndex: 1598960 entries, 0 to 1598959\n",
      "Data columns (total 9 columns):\n",
      " #   Column       Non-Null Count    Dtype \n",
      "---  ------       --------------    ----- \n",
      " 0   review_id    1598960 non-null  object\n",
      " 1   user_id      1598960 non-null  object\n",
      " 2   business_id  1598960 non-null  object\n",
      " 3   stars        1598960 non-null  int64 \n",
      " 4   useful       1598960 non-null  int64 \n",
      " 5   funny        1598960 non-null  int64 \n",
      " 6   cool         1598960 non-null  int64 \n",
      " 7   text         1598960 non-null  object\n",
      " 8   date         1598960 non-null  object\n",
      "dtypes: int64(4), object(5)\n",
      "memory usage: 109.8+ MB\n"
     ]
    }
   ],
   "source": [
    "df.info()"
   ]
  },
  {
   "cell_type": "code",
   "execution_count": 10,
   "id": "a7619be3",
   "metadata": {},
   "outputs": [
    {
     "data": {
      "text/html": [
       "<div>\n",
       "<style scoped>\n",
       "    .dataframe tbody tr th:only-of-type {\n",
       "        vertical-align: middle;\n",
       "    }\n",
       "\n",
       "    .dataframe tbody tr th {\n",
       "        vertical-align: top;\n",
       "    }\n",
       "\n",
       "    .dataframe thead th {\n",
       "        text-align: right;\n",
       "    }\n",
       "</style>\n",
       "<table border=\"1\" class=\"dataframe\">\n",
       "  <thead>\n",
       "    <tr style=\"text-align: right;\">\n",
       "      <th></th>\n",
       "      <th>stars</th>\n",
       "      <th>useful</th>\n",
       "      <th>funny</th>\n",
       "      <th>cool</th>\n",
       "    </tr>\n",
       "  </thead>\n",
       "  <tbody>\n",
       "    <tr>\n",
       "      <th>count</th>\n",
       "      <td>1.598960e+06</td>\n",
       "      <td>1.598960e+06</td>\n",
       "      <td>1.598960e+06</td>\n",
       "      <td>1.598960e+06</td>\n",
       "    </tr>\n",
       "    <tr>\n",
       "      <th>mean</th>\n",
       "      <td>3.698826e+00</td>\n",
       "      <td>1.295474e+00</td>\n",
       "      <td>3.709968e-01</td>\n",
       "      <td>4.945984e-01</td>\n",
       "    </tr>\n",
       "    <tr>\n",
       "      <th>std</th>\n",
       "      <td>1.463209e+00</td>\n",
       "      <td>3.822787e+00</td>\n",
       "      <td>1.565185e+00</td>\n",
       "      <td>1.923601e+00</td>\n",
       "    </tr>\n",
       "    <tr>\n",
       "      <th>min</th>\n",
       "      <td>1.000000e+00</td>\n",
       "      <td>0.000000e+00</td>\n",
       "      <td>0.000000e+00</td>\n",
       "      <td>0.000000e+00</td>\n",
       "    </tr>\n",
       "    <tr>\n",
       "      <th>25%</th>\n",
       "      <td>3.000000e+00</td>\n",
       "      <td>0.000000e+00</td>\n",
       "      <td>0.000000e+00</td>\n",
       "      <td>0.000000e+00</td>\n",
       "    </tr>\n",
       "    <tr>\n",
       "      <th>50%</th>\n",
       "      <td>4.000000e+00</td>\n",
       "      <td>0.000000e+00</td>\n",
       "      <td>0.000000e+00</td>\n",
       "      <td>0.000000e+00</td>\n",
       "    </tr>\n",
       "    <tr>\n",
       "      <th>75%</th>\n",
       "      <td>5.000000e+00</td>\n",
       "      <td>2.000000e+00</td>\n",
       "      <td>0.000000e+00</td>\n",
       "      <td>0.000000e+00</td>\n",
       "    </tr>\n",
       "    <tr>\n",
       "      <th>max</th>\n",
       "      <td>5.000000e+00</td>\n",
       "      <td>1.182000e+03</td>\n",
       "      <td>2.840000e+02</td>\n",
       "      <td>1.920000e+02</td>\n",
       "    </tr>\n",
       "  </tbody>\n",
       "</table>\n",
       "</div>"
      ],
      "text/plain": [
       "              stars        useful         funny          cool\n",
       "count  1.598960e+06  1.598960e+06  1.598960e+06  1.598960e+06\n",
       "mean   3.698826e+00  1.295474e+00  3.709968e-01  4.945984e-01\n",
       "std    1.463209e+00  3.822787e+00  1.565185e+00  1.923601e+00\n",
       "min    1.000000e+00  0.000000e+00  0.000000e+00  0.000000e+00\n",
       "25%    3.000000e+00  0.000000e+00  0.000000e+00  0.000000e+00\n",
       "50%    4.000000e+00  0.000000e+00  0.000000e+00  0.000000e+00\n",
       "75%    5.000000e+00  2.000000e+00  0.000000e+00  0.000000e+00\n",
       "max    5.000000e+00  1.182000e+03  2.840000e+02  1.920000e+02"
      ]
     },
     "execution_count": 10,
     "metadata": {},
     "output_type": "execute_result"
    }
   ],
   "source": [
    "df.describe()"
   ]
  },
  {
   "cell_type": "code",
   "execution_count": 11,
   "id": "bc5fa04a",
   "metadata": {},
   "outputs": [
    {
     "data": {
      "text/plain": [
       "0"
      ]
     },
     "execution_count": 11,
     "metadata": {},
     "output_type": "execute_result"
    }
   ],
   "source": [
    "df.duplicated().sum()"
   ]
  },
  {
   "cell_type": "code",
   "execution_count": 12,
   "id": "d753c814",
   "metadata": {},
   "outputs": [
    {
     "data": {
      "text/plain": [
       "review_id      0\n",
       "user_id        0\n",
       "business_id    0\n",
       "stars          0\n",
       "useful         0\n",
       "funny          0\n",
       "cool           0\n",
       "text           0\n",
       "date           0\n",
       "dtype: int64"
      ]
     },
     "execution_count": 12,
     "metadata": {},
     "output_type": "execute_result"
    }
   ],
   "source": [
    "df.isna().sum()"
   ]
  },
  {
   "cell_type": "code",
   "execution_count": 13,
   "id": "14c355cf",
   "metadata": {},
   "outputs": [
    {
     "data": {
      "text/plain": [
       "Index(['review_id', 'user_id', 'business_id', 'stars', 'useful', 'funny',\n",
       "       'cool', 'text', 'date'],\n",
       "      dtype='object')"
      ]
     },
     "execution_count": 13,
     "metadata": {},
     "output_type": "execute_result"
    }
   ],
   "source": [
    "df.columns"
   ]
  },
  {
   "cell_type": "code",
   "execution_count": 14,
   "id": "a9bf2dc9",
   "metadata": {},
   "outputs": [
    {
     "data": {
      "text/plain": [
       "0          If you decide to eat here, just be aware it is...\n",
       "1          I've taken a lot of spin classes over the year...\n",
       "2          Wow!  Yummy, different,  delicious.   Our favo...\n",
       "3          I am a long term frequent customer of this est...\n",
       "4          Amazingly amazing wings and homemade bleu chee...\n",
       "                                 ...                        \n",
       "1598955    Philly has become a dangerous place with the m...\n",
       "1598956    ice cream! ice cream sodas, sundaes!! \\n\\nwant...\n",
       "1598957    This is a good pizza option - they deliver thr...\n",
       "1598958    It is very rare for a restaurant to be this go...\n",
       "1598959    This Home Depot won me over when I needed to g...\n",
       "Name: text, Length: 1598960, dtype: object"
      ]
     },
     "execution_count": 14,
     "metadata": {},
     "output_type": "execute_result"
    }
   ],
   "source": [
    "from sklearn.feature_extraction.text import CountVectorizer\n",
    "vectorizer = CountVectorizer(min_df=1)\n",
    "text = df[\"text\"]\n",
    "text\n"
   ]
  },
  {
   "cell_type": "code",
   "execution_count": 15,
   "id": "1a2e3aa5",
   "metadata": {},
   "outputs": [],
   "source": [
    "import nltk\n",
    "from nltk.corpus import stopwords\n",
    "from nltk.stem.porter import PorterStemmer\n",
    "import re\n",
    "custom_stopwords = {'don', \"don't\", 'ain', \"aren't\", 'couldn', \"couldn't\",\n",
    "                   'didn', \"didn't\", 'doesn', \"doesn't\", 'hadn', \"hadn't\",\n",
    "                   'hasn', \"hasn't\", 'haven', \"haven't\", 'isn', \"isn't\", 'ma',\n",
    "                   'mightn', \"mightn't\", 'mustn', \"musn't\", 'needn', \"needn't\", \n",
    "                   'shan', \"shan't\", 'no', 'nor', 'not', 'shouldn', \"shouldn't\",\n",
    "                   'wasn', \"wasn't\", 'weren', \"weren't\", 'won', \"won't\", 'wouldn', \"wouldn't\"}\n",
    "\n",
    "corpus = []\n",
    "ps = PorterStemmer()\n",
    "stop_words = set(stopwords.words(\"english\")) - custom_stopwords\n",
    "\n",
    "for i in range(100):\n",
    "    review = re.sub('[^a-zA-Z]', ' ',text[i])\n",
    "    review = review.lower()\n",
    "    review = review.split()\n",
    "    review = [ps.stem(word) for word in review if word not in stop_words]\n",
    "    review = \" \".join(review)\n",
    "    corpus.append(review)"
   ]
  },
  {
   "cell_type": "code",
   "execution_count": 16,
   "id": "f131231a",
   "metadata": {},
   "outputs": [
    {
     "data": {
      "text/plain": [
       "10000"
      ]
     },
     "execution_count": 16,
     "metadata": {},
     "output_type": "execute_result"
    }
   ],
   "source": [
    "text = text.head(10000)\n",
    "len(text)"
   ]
  },
  {
   "cell_type": "code",
   "execution_count": 17,
   "id": "ed983cba",
   "metadata": {},
   "outputs": [
    {
     "name": "stdout",
     "output_type": "stream",
     "text": [
      "\n",
      "Transformed text vector is \n",
      "[[0 0 0 ... 0 0 0]\n",
      " [0 0 0 ... 0 0 0]\n",
      " [0 0 0 ... 0 0 0]\n",
      " ...\n",
      " [0 0 0 ... 0 0 0]\n",
      " [0 0 0 ... 0 0 0]\n",
      " [0 0 0 ... 0 0 0]]\n"
     ]
    }
   ],
   "source": [
    "# call `fit` to build the vocabulary\n",
    "vectorizer.fit(text)\n",
    "\n",
    "# call `transform` to convert text to a bag of words\n",
    "x = vectorizer.transform(text)\n",
    "\n",
    "# CountVectorizer uses a sparse array to save memory, but it's easier in this assignment to \n",
    "# convert back to a \"normal\" numpy array\n",
    "x = x.toarray()\n",
    "\n",
    "print(\"\")\n",
    "print(\"Transformed text vector is \\n{}\".format(x))"
   ]
  },
  {
   "cell_type": "code",
   "execution_count": 18,
   "id": "c2b12800",
   "metadata": {},
   "outputs": [
    {
     "name": "stdout",
     "output_type": "stream",
     "text": [
      "\n",
      "Words for each feature:\n",
      "['00' '000' '007' ... 'été' '小籠包' '芥蘭']\n"
     ]
    }
   ],
   "source": [
    "# `get_feature_names` tracks which word is associated with each column of the transformed x\n",
    "print(\"\")\n",
    "print(\"Words for each feature:\")\n",
    "print(vectorizer.get_feature_names_out())"
   ]
  },
  {
   "cell_type": "code",
   "execution_count": 19,
   "id": "feaaeafd",
   "metadata": {},
   "outputs": [
    {
     "data": {
      "text/plain": [
       "0       3\n",
       "1       5\n",
       "2       5\n",
       "3       1\n",
       "4       5\n",
       "       ..\n",
       "9995    4\n",
       "9996    5\n",
       "9997    4\n",
       "9998    2\n",
       "9999    5\n",
       "Name: stars, Length: 10000, dtype: int64"
      ]
     },
     "execution_count": 19,
     "metadata": {},
     "output_type": "execute_result"
    }
   ],
   "source": [
    "y=df[\"stars\"].head(10000)\n",
    "y"
   ]
  },
  {
   "cell_type": "code",
   "execution_count": 20,
   "id": "04e0dd63",
   "metadata": {},
   "outputs": [
    {
     "name": "stdout",
     "output_type": "stream",
     "text": [
      "CPU times: user 5.36 s, sys: 2.78 ms, total: 5.36 s\n",
      "Wall time: 5.37 s\n",
      "0.5615\n"
     ]
    }
   ],
   "source": [
    "from sklearn.model_selection import train_test_split\n",
    "X_train, X_test, y_train, y_test = train_test_split(x, y, test_size=0.20, random_state=42)\n",
    "from sklearn.naive_bayes import MultinomialNB\n",
    "nb = MultinomialNB()\n",
    "%time nb.fit(X_train, y_train)\n",
    "y_pred = nb.predict(X_test)\n",
    "from sklearn.metrics import accuracy_score\n",
    "\n",
    "print(accuracy_score(y_test, y_pred))"
   ]
  },
  {
   "cell_type": "code",
   "execution_count": 21,
   "id": "1c3af1bb",
   "metadata": {},
   "outputs": [
    {
     "name": "stdout",
     "output_type": "stream",
     "text": [
      "0.770125\n"
     ]
    }
   ],
   "source": [
    "y_train_pred = nb.predict(X_train)\n",
    "print(accuracy_score(y_train, y_train_pred))"
   ]
  },
  {
   "cell_type": "code",
   "execution_count": 22,
   "id": "c11757a6",
   "metadata": {},
   "outputs": [
    {
     "name": "stdout",
     "output_type": "stream",
     "text": [
      "<class 'scipy.sparse._csr.csr_matrix'>\n"
     ]
    }
   ],
   "source": [
    "review_text = [\"this turkey is provoking my immune system\"]\n",
    "review_vctrzd = vectorizer.transform(review_text)\n",
    "print(type(review_vctrzd))\n",
    "#print(review_vctrzd)\n",
    "#review_stars = nb.predict(review_vctrzd)\n",
    "#review_stars"
   ]
  },
  {
   "cell_type": "code",
   "execution_count": 23,
   "id": "32e3aabd",
   "metadata": {},
   "outputs": [
    {
     "data": {
      "text/plain": [
       "['yelpmodel.pkl']"
      ]
     },
     "execution_count": 23,
     "metadata": {},
     "output_type": "execute_result"
    }
   ],
   "source": [
    "import joblib\n",
    "joblib.dump(nb, \"yelpmodel.pkl\")"
   ]
  },
  {
   "cell_type": "code",
   "execution_count": 24,
   "id": "4df7bf48",
   "metadata": {},
   "outputs": [
    {
     "data": {
      "text/plain": [
       "['yelp_vectorizer.pkl']"
      ]
     },
     "execution_count": 24,
     "metadata": {},
     "output_type": "execute_result"
    }
   ],
   "source": [
    "joblib.dump(vectorizer, \"yelp_vectorizer.pkl\")"
   ]
  },
  {
   "cell_type": "code",
   "execution_count": 25,
   "id": "f1024cae",
   "metadata": {},
   "outputs": [
    {
     "data": {
      "text/plain": [
       "<1x24116 sparse matrix of type '<class 'numpy.int64'>'\n",
       "\twith 6 stored elements in Compressed Sparse Row format>"
      ]
     },
     "execution_count": 25,
     "metadata": {},
     "output_type": "execute_result"
    }
   ],
   "source": [
    "text = \"Philly has become a dangerous place with\"\n",
    "text = [text]\n",
    "#print(text)\n",
    "vectorizer.transform(text)"
   ]
  },
  {
   "cell_type": "code",
   "execution_count": 26,
   "id": "30f8ff89",
   "metadata": {},
   "outputs": [],
   "source": [
    "from sklearn.ensemble import RandomForestClassifier\n",
    "clf = RandomForestClassifier()\n",
    "rf = clf.fit(X_train, y_train)"
   ]
  },
  {
   "cell_type": "code",
   "execution_count": 27,
   "id": "6f36dc1d-887f-4be4-bfe1-cd513b51b636",
   "metadata": {},
   "outputs": [
    {
     "data": {
      "text/plain": [
       "array([0.4939759 , 0.01980198, 0.03524229, 0.32026144, 0.67040069])"
      ]
     },
     "execution_count": 27,
     "metadata": {},
     "output_type": "execute_result"
    }
   ],
   "source": [
    "rf_y_pred = rf.predict(X_test)\n",
    "from sklearn.metrics import f1_score\n",
    "f1_score(rf_y_pred, y_test, average=None)"
   ]
  },
  {
   "cell_type": "code",
   "execution_count": 28,
   "id": "e61902ef-a99a-4b4d-ac1b-93fe9e41063d",
   "metadata": {},
   "outputs": [
    {
     "name": "stdout",
     "output_type": "stream",
     "text": [
      "Accuracy: 0.5065\n"
     ]
    }
   ],
   "source": [
    "# Evaluate model performance\n",
    "accuracy = accuracy_score(y_test, rf_y_pred)\n",
    "print(\"Accuracy:\", accuracy)"
   ]
  },
  {
   "cell_type": "code",
   "execution_count": null,
   "id": "cccbec7e-aa44-405d-962a-5782f4a58f01",
   "metadata": {},
   "outputs": [],
   "source": [
    "from sklearn.svm import SVC\n",
    "from sklearn.metrics import accuracy_score\n",
    "\n",
    "# Create and train SVC model\n",
    "svc_classifier = SVC(kernel=\"rbf\")\n",
    "svc_classifier.fit(X_train, y_train)\n",
    "\n",
    "# Make predictions\n",
    "svc_predictions = svc_classifier.predict(X_test)\n",
    "\n",
    "# Evaluate model performance\n",
    "accuracy = accuracy_score(y_test, svc_predictions)\n",
    "print(\"Accuracy:\", accuracy)\n"
   ]
  },
  {
   "cell_type": "code",
   "execution_count": null,
   "id": "661f75ea-d533-40ba-8f81-4fb1ece0b9b5",
   "metadata": {},
   "outputs": [],
   "source": []
  }
 ],
 "metadata": {
  "kernelspec": {
   "display_name": "Python 3 (ipykernel)",
   "language": "python",
   "name": "python3"
  },
  "language_info": {
   "codemirror_mode": {
    "name": "ipython",
    "version": 3
   },
   "file_extension": ".py",
   "mimetype": "text/x-python",
   "name": "python",
   "nbconvert_exporter": "python",
   "pygments_lexer": "ipython3",
   "version": "3.11.5"
  }
 },
 "nbformat": 4,
 "nbformat_minor": 5
}
